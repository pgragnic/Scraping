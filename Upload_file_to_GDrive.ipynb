{
 "cells": [
  {
   "cell_type": "code",
   "execution_count": 2,
   "source": [
    "from pydrive.auth import GoogleAuth\r\n",
    "from pydrive.drive import GoogleDrive"
   ],
   "outputs": [],
   "metadata": {}
  },
  {
   "cell_type": "code",
   "execution_count": 3,
   "source": [
    "gauth = GoogleAuth()     \r\n",
    "drive = GoogleDrive(gauth)"
   ],
   "outputs": [],
   "metadata": {}
  },
  {
   "cell_type": "code",
   "execution_count": 4,
   "source": [
    "upload_file_list = ['8_spark_sql_quiz.ipynb', '4_data_wrangling.ipynb']\r\n",
    "for upload_file in upload_file_list:\r\n",
    "\tgfile = drive.CreateFile({'parents': [{'id': '1d4ipjb-Xnee68jkVVNeHkzA9kgsQ-avp'}]})\r\n",
    "\t# Read file and set it as the content of this instance.\r\n",
    "\tgfile.SetContentFile(upload_file)\r\n",
    "\tgfile.Upload() # Upload the file."
   ],
   "outputs": [
    {
     "output_type": "stream",
     "name": "stdout",
     "text": [
      "Your browser has been opened to visit:\n",
      "\n",
      "    https://accounts.google.com/o/oauth2/auth?client_id=236090439013-u1ufbmt67g0l2lqpdjnuboivdbgi1no2.apps.googleusercontent.com&redirect_uri=http%3A%2F%2Flocalhost%3A8080%2F&scope=https%3A%2F%2Fwww.googleapis.com%2Fauth%2Fdrive&access_type=offline&response_type=code\n",
      "\n",
      "Authentication successful.\n"
     ]
    }
   ],
   "metadata": {}
  }
 ],
 "metadata": {
  "orig_nbformat": 4,
  "language_info": {
   "name": "python",
   "version": "3.8.8",
   "mimetype": "text/x-python",
   "codemirror_mode": {
    "name": "ipython",
    "version": 3
   },
   "pygments_lexer": "ipython3",
   "nbconvert_exporter": "python",
   "file_extension": ".py"
  },
  "kernelspec": {
   "name": "python3",
   "display_name": "Python 3.8.8 64-bit ('base': conda)"
  },
  "interpreter": {
   "hash": "e254ffc773357790aa04a01fb60c7c6721ec5a0c6f1763bcb2e925b3d380624c"
  }
 },
 "nbformat": 4,
 "nbformat_minor": 2
}