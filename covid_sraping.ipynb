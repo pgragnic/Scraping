{
 "cells": [
  {
   "cell_type": "code",
   "execution_count": 49,
   "metadata": {},
   "outputs": [],
   "source": [
    "import requests\n",
    "import pandas as pd\n",
    "import os\n",
    "import time\n",
    "from datetime import datetime"
   ]
  },
  {
   "cell_type": "code",
   "execution_count": 50,
   "metadata": {},
   "outputs": [
    {
     "name": "stdout",
     "output_type": "stream",
     "text": [
      "591\n",
      "652\n",
      "636\n",
      "672\n",
      "704\n",
      "770\n",
      "787\n",
      "824\n",
      "865\n",
      "903\n",
      "1081\n",
      "1155\n",
      "1220\n",
      "1251\n",
      "1290\n",
      "1304\n",
      "1328\n",
      "1348\n",
      "1376\n",
      "1378\n",
      "1406\n",
      "1384\n",
      "1386\n",
      "1407\n",
      "1421\n",
      "1425\n",
      "1435\n",
      "1444\n",
      "1454\n",
      "1453\n",
      "1541\n",
      "1586\n",
      "1585\n",
      "1652\n",
      "1706\n",
      "1762\n",
      "1808\n",
      "1916\n",
      "1975\n",
      "3367\n",
      "3709\n",
      "3964\n",
      "4181\n",
      "4508\n",
      "5071\n",
      "5623\n",
      "6325\n",
      "6564\n",
      "5071\n",
      "5235\n",
      "5321\n",
      "5305\n",
      "6030\n",
      "6159\n",
      "6447\n",
      "6683\n",
      "6880\n",
      "7103\n",
      "7280\n",
      "7389\n"
     ]
    }
   ],
   "source": [
    "user = \"CSSEGISandData\"\n",
    "repo = \"COVID-19\"\n",
    "\n",
    "url = \"https://api.github.com/repos/{}/{}/git/trees/master?recursive=1\".format(user, repo)\n",
    "urlRaw = \"https://raw.githubusercontent.com/CSSEGISandData/COVID-19/master/\"\n",
    "\n",
    "r = requests.get(url)\n",
    "res = r.json()\n",
    "i = 0\n",
    "\n",
    "start_time = time.time()\n",
    "\n",
    "for file in res[\"tree\"]:\n",
    "    pathToCheck = file[\"path\"]\n",
    "    if i == 10000:\n",
    "        break\n",
    "    if pathToCheck.endswith('.csv') \\\n",
    "            and pathToCheck.find('csse_covid_19_daily_reports')!=-1 \\\n",
    "            and pathToCheck.find('_us')==-1 \\\n",
    "            and not os.path.isfile(file[\"path\"]):\n",
    "            #r = requests.get(urlRaw + file[\"path\"])\n",
    "            r = requests.head(urlRaw + file[\"path\"])\n",
    "            print (r.headers['Content-Length'])\n",
    "            if int(r.headers['Content-Length']) > 50000:\n",
    "                r = requests.get(urlRaw + file[\"path\"])\n",
    "                open(file[\"path\"], 'wb').write(r.content)\n",
    "                i += 1\n",
    "            if i%10 == 0 and i > 0:\n",
    "                print(f'{i} files downloaded in {(time.time() - start_time)} seconds')\n",
    "                start_time = time.time()"
   ]
  }
 ],
 "metadata": {
  "interpreter": {
   "hash": "e254ffc773357790aa04a01fb60c7c6721ec5a0c6f1763bcb2e925b3d380624c"
  },
  "kernelspec": {
   "display_name": "Python 3.8.8 64-bit ('base': conda)",
   "name": "python3"
  },
  "language_info": {
   "codemirror_mode": {
    "name": "ipython",
    "version": 3
   },
   "file_extension": ".py",
   "mimetype": "text/x-python",
   "name": "python",
   "nbconvert_exporter": "python",
   "pygments_lexer": "ipython3",
   "version": "3.8.8"
  },
  "orig_nbformat": 4
 },
 "nbformat": 4,
 "nbformat_minor": 2
}
