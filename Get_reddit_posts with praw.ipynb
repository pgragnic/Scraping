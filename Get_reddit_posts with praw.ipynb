{
 "cells": [
  {
   "cell_type": "code",
   "execution_count": 15,
   "source": [
    "import praw\r\n",
    "# praw: Python Reddit API Wrapper\r\n",
    "# https://praw.readthedocs.io/en/latest/getting_started/installation.html\r\n",
    "import pandas as pd\r\n",
    "import datetime as dt"
   ],
   "outputs": [],
   "metadata": {}
  },
  {
   "cell_type": "code",
   "execution_count": 16,
   "source": [
    "# initiate a reddit instance\r\n",
    "\r\n",
    "reddit = praw.Reddit(\"bot1\", user_agent=\"bot1 user agent\")"
   ],
   "outputs": [],
   "metadata": {}
  },
  {
   "cell_type": "code",
   "execution_count": 17,
   "source": [
    "#For the project, Aleszu and I decided to scrape this information about the topics:\r\n",
    "# title, score, url, id, number of comments, date of creation, body text.\r\n",
    "# This can be done very easily with a for loop just like above,\r\n",
    "# but first we need to create a place to store the data. On Python,\r\n",
    "# that is usually done with a dictionary. Let’s create it with the following code:\r\n",
    "\r\n",
    "topics_dict = { \"title\":[], \\\r\n",
    "                \"author\": [], \\\r\n",
    "                \"created\":[]\r\n",
    "            }"
   ],
   "outputs": [],
   "metadata": {}
  },
  {
   "cell_type": "code",
   "execution_count": 18,
   "source": [
    "# Stream reddit\r\n",
    "# for submission in reddit.subreddit(\"all\").stream.submissions():\r\n",
    "#    print(submission.title)"
   ],
   "outputs": [],
   "metadata": {}
  },
  {
   "cell_type": "code",
   "execution_count": 19,
   "source": [
    "# Now we are ready to start scraping the data from the Reddit API. We will iterate through our top_subreddit object\r\n",
    "# and append the information to our dictionary.\r\n",
    "\r\n",
    "for submission in reddit.subreddit(\"all\").top(\"all\", limit=1000):\r\n",
    "    topics_dict[\"title\"].append(submission.title)\r\n",
    "    if hasattr(submission, 'author_fullname'):\r\n",
    "        topics_dict[\"author\"].append(submission.author_fullname)    \r\n",
    "    else:\r\n",
    "        topics_dict[\"author\"].append(None)\r\n",
    "    topics_dict[\"created\"].append(submission.created)"
   ],
   "outputs": [],
   "metadata": {}
  },
  {
   "cell_type": "code",
   "execution_count": 20,
   "source": [
    "#Python dictionaries, however, are not very easy for us humans to read.\r\n",
    "# This is where the Pandas module comes in handy.\r\n",
    "# We’ll finally use it to put the data into something that looks like a spreadsheet — in Pandas,\r\n",
    "# we call those Data Frames.\r\n",
    "\r\n",
    "#print(topics_dict)\r\n",
    "\r\n",
    "topics_data = pd.DataFrame(topics_dict)\r\n",
    "topics_data"
   ],
   "outputs": [
    {
     "output_type": "execute_result",
     "data": {
      "text/html": [
       "<div>\n",
       "<style scoped>\n",
       "    .dataframe tbody tr th:only-of-type {\n",
       "        vertical-align: middle;\n",
       "    }\n",
       "\n",
       "    .dataframe tbody tr th {\n",
       "        vertical-align: top;\n",
       "    }\n",
       "\n",
       "    .dataframe thead th {\n",
       "        text-align: right;\n",
       "    }\n",
       "</style>\n",
       "<table border=\"1\" class=\"dataframe\">\n",
       "  <thead>\n",
       "    <tr style=\"text-align: right;\">\n",
       "      <th></th>\n",
       "      <th>title</th>\n",
       "      <th>author</th>\n",
       "      <th>created</th>\n",
       "    </tr>\n",
       "  </thead>\n",
       "  <tbody>\n",
       "    <tr>\n",
       "      <th>0</th>\n",
       "      <td>I’ve found a few funny memories during lockdow...</td>\n",
       "      <td>t2_11yd5w</td>\n",
       "      <td>1.592411e+09</td>\n",
       "    </tr>\n",
       "    <tr>\n",
       "      <th>1</th>\n",
       "      <td>Times Square right now</td>\n",
       "      <td>t2_cxhbp</td>\n",
       "      <td>1.612030e+09</td>\n",
       "    </tr>\n",
       "    <tr>\n",
       "      <th>2</th>\n",
       "      <td>Joe Biden elected president of the United States</td>\n",
       "      <td>t2_fkqop</td>\n",
       "      <td>1.604767e+09</td>\n",
       "    </tr>\n",
       "    <tr>\n",
       "      <th>3</th>\n",
       "      <td>The Senate. Upvote this so that people see it ...</td>\n",
       "      <td>t2_nifnj</td>\n",
       "      <td>1.491051e+09</td>\n",
       "    </tr>\n",
       "    <tr>\n",
       "      <th>4</th>\n",
       "      <td>My cab driver tonight was so excited to share ...</td>\n",
       "      <td>t2_aa1ng</td>\n",
       "      <td>1.514430e+09</td>\n",
       "    </tr>\n",
       "    <tr>\n",
       "      <th>...</th>\n",
       "      <td>...</td>\n",
       "      <td>...</td>\n",
       "      <td>...</td>\n",
       "    </tr>\n",
       "    <tr>\n",
       "      <th>995</th>\n",
       "      <td>“If masks were necessary we would have evolved...</td>\n",
       "      <td>t2_3p1sn3e4</td>\n",
       "      <td>1.597059e+09</td>\n",
       "    </tr>\n",
       "    <tr>\n",
       "      <th>996</th>\n",
       "      <td>Metal Jesus COVID FREAKOUT</td>\n",
       "      <td>t2_15yuxw</td>\n",
       "      <td>1.606841e+09</td>\n",
       "    </tr>\n",
       "    <tr>\n",
       "      <th>997</th>\n",
       "      <td>He did it</td>\n",
       "      <td>t2_38v4u3rb</td>\n",
       "      <td>1.567720e+09</td>\n",
       "    </tr>\n",
       "    <tr>\n",
       "      <th>998</th>\n",
       "      <td>Tunak tunak tun</td>\n",
       "      <td>t2_5sul6p80</td>\n",
       "      <td>1.589025e+09</td>\n",
       "    </tr>\n",
       "    <tr>\n",
       "      <th>999</th>\n",
       "      <td>The best thing of Gaming</td>\n",
       "      <td>t2_816cd</td>\n",
       "      <td>1.547826e+09</td>\n",
       "    </tr>\n",
       "  </tbody>\n",
       "</table>\n",
       "<p>1000 rows × 3 columns</p>\n",
       "</div>"
      ],
      "text/plain": [
       "                                                 title       author  \\\n",
       "0    I’ve found a few funny memories during lockdow...    t2_11yd5w   \n",
       "1                               Times Square right now     t2_cxhbp   \n",
       "2     Joe Biden elected president of the United States     t2_fkqop   \n",
       "3    The Senate. Upvote this so that people see it ...     t2_nifnj   \n",
       "4    My cab driver tonight was so excited to share ...     t2_aa1ng   \n",
       "..                                                 ...          ...   \n",
       "995  “If masks were necessary we would have evolved...  t2_3p1sn3e4   \n",
       "996                         Metal Jesus COVID FREAKOUT    t2_15yuxw   \n",
       "997                                          He did it  t2_38v4u3rb   \n",
       "998                                    Tunak tunak tun  t2_5sul6p80   \n",
       "999                           The best thing of Gaming     t2_816cd   \n",
       "\n",
       "          created  \n",
       "0    1.592411e+09  \n",
       "1    1.612030e+09  \n",
       "2    1.604767e+09  \n",
       "3    1.491051e+09  \n",
       "4    1.514430e+09  \n",
       "..            ...  \n",
       "995  1.597059e+09  \n",
       "996  1.606841e+09  \n",
       "997  1.567720e+09  \n",
       "998  1.589025e+09  \n",
       "999  1.547826e+09  \n",
       "\n",
       "[1000 rows x 3 columns]"
      ]
     },
     "metadata": {},
     "execution_count": 20
    }
   ],
   "metadata": {}
  },
  {
   "cell_type": "code",
   "execution_count": 21,
   "source": [
    "#Fixing the date column\r\n",
    "\r\n",
    "# Reddit uses UNIX timestamps to format date and time.\r\n",
    "# Instead of manually converting all those entries, or using a site like www.unixtimestamp.com,\r\n",
    "# we can easily write up a function in Python to automate that process. We define it, call it,\r\n",
    "# and join the new column to dataset with the following code:\r\n",
    "\r\n",
    "def get_date(created):\r\n",
    "    return dt.datetime.fromtimestamp(created)\r\n",
    "\r\n",
    "_timestamp = topics_data[\"created\"].apply(get_date)\r\n",
    "\r\n",
    "topics_data = topics_data.assign(timestamp = _timestamp)"
   ],
   "outputs": [],
   "metadata": {}
  },
  {
   "cell_type": "code",
   "execution_count": 22,
   "source": [
    "topics_data.to_json(\"Data/Reddit/reddit.json\", orient=\"records\")\r\n",
    "#topics_data.to_csv(\"Data/Reddit/reddit.csv\", sep=\";\")"
   ],
   "outputs": [],
   "metadata": {}
  }
 ],
 "metadata": {
  "orig_nbformat": 4,
  "language_info": {
   "name": "python",
   "version": "3.8.8",
   "mimetype": "text/x-python",
   "codemirror_mode": {
    "name": "ipython",
    "version": 3
   },
   "pygments_lexer": "ipython3",
   "nbconvert_exporter": "python",
   "file_extension": ".py"
  },
  "kernelspec": {
   "name": "python3",
   "display_name": "Python 3.8.8 64-bit ('base': conda)"
  },
  "interpreter": {
   "hash": "e254ffc773357790aa04a01fb60c7c6721ec5a0c6f1763bcb2e925b3d380624c"
  }
 },
 "nbformat": 4,
 "nbformat_minor": 2
}