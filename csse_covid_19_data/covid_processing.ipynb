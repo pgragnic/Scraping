{
 "cells": [
  {
   "cell_type": "code",
   "execution_count": 4,
   "metadata": {},
   "outputs": [],
   "source": [
    "from pyspark.sql import SparkSession\n",
    "from pyspark.sql import functions as f\n",
    "import os\n",
    "import configparser\n",
    "import pandas as pd"
   ]
  },
  {
   "cell_type": "code",
   "execution_count": 5,
   "metadata": {},
   "outputs": [],
   "source": [
    "# Set Postgres parameters\n",
    "\n",
    "db_properties={}\n",
    "config = configparser.ConfigParser()\n",
    "config.read(\"parameters.cfg\")\n",
    "db_prop = config['postgresql']\n",
    "db_url = db_prop['url']\n",
    "db_user = db_prop['username']\n",
    "db_password = db_prop['password']\n",
    "db_properties['username']=db_prop['username']\n",
    "db_properties['password']=db_prop['password']\n",
    "db_properties['url']=db_prop['url']"
   ]
  },
  {
   "cell_type": "code",
   "execution_count": 6,
   "metadata": {},
   "outputs": [],
   "source": [
    "#def create_spark_session():\n",
    "\n",
    "\"\"\"\n",
    "Description: This function  creates or get (if already exists) a Spark session \n",
    "\n",
    "Arguments:\n",
    "    None\n",
    "\n",
    "Returns:\n",
    "    spark: Spark session\n",
    "\"\"\"\n",
    "\n",
    "spark = SparkSession \\\n",
    "    .builder \\\n",
    "    .getOrCreate()\n",
    "#return spark"
   ]
  },
  {
   "cell_type": "code",
   "execution_count": 8,
   "metadata": {},
   "outputs": [
    {
     "name": "stdout",
     "output_type": "stream",
     "text": [
      "Reading covid data file\n",
      "Writing covid data to Postgres\n"
     ]
    }
   ],
   "source": [
    "# get filepath to covid data file\n",
    "input_data = \"csse_covid_19_daily_reports/\"\n",
    "covid_data = os.path.join(input_data, \"*.csv\")\n",
    "\n",
    "# read covid data and write it in postgres\n",
    "print (\"Reading covid data file\") \n",
    "df = spark.read.csv(covid_data, header=True)\n",
    "\n",
    "print(\"Writing covid data to Postgres\")\n",
    "df.select(\"*\") \\\n",
    "   .write.mode(\"overwrite\") \\\n",
    "   .mode(\"overwrite\") \\\n",
    "   .format(\"jdbc\") \\\n",
    "   .option(\"url\", db_url) \\\n",
    "   .option(\"dbtable\", \"fact_covid\") \\\n",
    "   .option(\"user\", db_user) \\\n",
    "   .option(\"password\", db_password) \\\n",
    "   .save()"
   ]
  },
  {
   "cell_type": "code",
   "execution_count": 9,
   "metadata": {},
   "outputs": [
    {
     "name": "stdout",
     "output_type": "stream",
     "text": [
      "Creating countries table\n"
     ]
    }
   ],
   "source": [
    "# Import countries data\n",
    "\n",
    "print(\"Creating countries table\")\n",
    "\n",
    "df_countries = spark \\\n",
    "    .read \\\n",
    "    .format(\"csv\") \\\n",
    "    .option(\"header\", \"true\") \\\n",
    "    .option(\"delimiter\", \",\") \\\n",
    "    .load(\"countries.csv\")\n",
    "\n",
    "df_countries \\\n",
    "    .write \\\n",
    "    .mode(\"overwrite\") \\\n",
    "    .format(\"jdbc\") \\\n",
    "    .option(\"url\", db_url) \\\n",
    "    .option(\"dbtable\", \"dim_countries\") \\\n",
    "    .option(\"user\", db_user) \\\n",
    "    .option(\"password\", db_password) \\\n",
    "    .save()"
   ]
  },
  {
   "cell_type": "code",
   "execution_count": 10,
   "metadata": {},
   "outputs": [
    {
     "name": "stdout",
     "output_type": "stream",
     "text": [
      "Creating exposure table\n"
     ]
    }
   ],
   "source": [
    "# Import Exconomic exposure data\n",
    "\n",
    "print(\"Creating exposure table\")\n",
    "\n",
    "df_exposure = spark \\\n",
    "    .read \\\n",
    "    .format(\"csv\") \\\n",
    "    .option(\"header\", \"true\") \\\n",
    "    .option(\"delimiter\", \";\") \\\n",
    "    .load(\"exposure.csv\")\n",
    "\n",
    "df_exposure \\\n",
    "    .write \\\n",
    "    .mode(\"overwrite\") \\\n",
    "    .format(\"jdbc\") \\\n",
    "    .option(\"url\", db_url) \\\n",
    "    .option(\"dbtable\", \"dim_exposure\") \\\n",
    "    .option(\"user\", db_user) \\\n",
    "    .option(\"password\", db_password) \\\n",
    "    .save()"
   ]
  },
  {
   "cell_type": "code",
   "execution_count": 12,
   "metadata": {},
   "outputs": [
    {
     "name": "stdout",
     "output_type": "stream",
     "text": [
      "Creating vaccination table\n"
     ]
    }
   ],
   "source": [
    "# Import Vaccination data\n",
    "\n",
    "print(\"Creating vaccination table\")\n",
    "\n",
    "df_vaccination = spark \\\n",
    "    .read \\\n",
    "    .format(\"csv\") \\\n",
    "    .option(\"header\", \"true\") \\\n",
    "    .option(\"delimiter\", \",\") \\\n",
    "    .load(\"vaccination.csv\")\n",
    "\n",
    "df_vaccination \\\n",
    "    .write \\\n",
    "    .mode(\"overwrite\") \\\n",
    "    .format(\"jdbc\") \\\n",
    "    .option(\"url\", db_url) \\\n",
    "    .option(\"dbtable\", \"dim_vaccination\") \\\n",
    "    .option(\"user\", db_user) \\\n",
    "    .option(\"password\", db_password) \\\n",
    "    .save()"
   ]
  }
 ],
 "metadata": {
  "interpreter": {
   "hash": "e254ffc773357790aa04a01fb60c7c6721ec5a0c6f1763bcb2e925b3d380624c"
  },
  "kernelspec": {
   "display_name": "Python 3.8.8 64-bit ('base': conda)",
   "name": "python3"
  },
  "language_info": {
   "codemirror_mode": {
    "name": "ipython",
    "version": 3
   },
   "file_extension": ".py",
   "mimetype": "text/x-python",
   "name": "python",
   "nbconvert_exporter": "python",
   "pygments_lexer": "ipython3",
   "version": "3.8.8"
  },
  "orig_nbformat": 4
 },
 "nbformat": 4,
 "nbformat_minor": 2
}
